{
 "cells": [
  {
   "cell_type": "code",
   "execution_count": 1,
   "id": "d33e9c1f",
   "metadata": {},
   "outputs": [],
   "source": [
    "import pandas as pd\n",
    "import numpy as np\n",
    "import pickle\n",
    "import json"
   ]
  },
  {
   "cell_type": "code",
   "execution_count": 2,
   "id": "87621347",
   "metadata": {},
   "outputs": [],
   "source": [
    "with open(\"Random_forest_model.pkl\",'rb') as f:\n",
    "    rf_model = pickle.load(f)"
   ]
  },
  {
   "cell_type": "code",
   "execution_count": 3,
   "id": "830af259",
   "metadata": {},
   "outputs": [],
   "source": [
    "with open(\"label_encoder_model.pkl\",'rb') as f:\n",
    "    label_model = pickle.load(f)"
   ]
  },
  {
   "cell_type": "code",
   "execution_count": 4,
   "id": "e80af862",
   "metadata": {},
   "outputs": [],
   "source": [
    "Pclass=3.000000\n",
    "Gender='male'\n",
    "Age= 45\n",
    "SibSp= 3.000000\n",
    "Parch= 1.000000\n",
    "Fare=13.0000\n",
    "Embarked='S'"
   ]
  },
  {
   "cell_type": "code",
   "execution_count": 7,
   "id": "969b5f62",
   "metadata": {},
   "outputs": [],
   "source": [
    "Gender = label_model[0].transform([Gender])[0]\n",
    "Embarked = label_model[1].transform([Embarked])[0]"
   ]
  },
  {
   "cell_type": "code",
   "execution_count": 8,
   "id": "674aef9a",
   "metadata": {},
   "outputs": [
    {
     "data": {
      "text/plain": [
       "array([ 3.,  1., 45.,  3.,  1., 13.,  2.])"
      ]
     },
     "execution_count": 8,
     "metadata": {},
     "output_type": "execute_result"
    }
   ],
   "source": [
    "test_array = np.array([Pclass,Gender,Age,SibSp,Parch,Fare,Embarked])\n",
    "test_array"
   ]
  },
  {
   "cell_type": "code",
   "execution_count": 10,
   "id": "99aca51a",
   "metadata": {},
   "outputs": [
    {
     "name": "stderr",
     "output_type": "stream",
     "text": [
      "C:\\Users\\Manjusha\\anaconda3\\envs\\py3912\\lib\\site-packages\\sklearn\\base.py:450: UserWarning: X does not have valid feature names, but RandomForestClassifier was fitted with feature names\n",
      "  warnings.warn(\n"
     ]
    },
    {
     "data": {
      "text/plain": [
       "0.0"
      ]
     },
     "execution_count": 10,
     "metadata": {},
     "output_type": "execute_result"
    }
   ],
   "source": [
    "rf_model.predict([test_array])[0]"
   ]
  }
 ],
 "metadata": {
  "kernelspec": {
   "display_name": "Python 3 (ipykernel)",
   "language": "python",
   "name": "python3"
  },
  "language_info": {
   "codemirror_mode": {
    "name": "ipython",
    "version": 3
   },
   "file_extension": ".py",
   "mimetype": "text/x-python",
   "name": "python",
   "nbconvert_exporter": "python",
   "pygments_lexer": "ipython3",
   "version": "3.10.4"
  }
 },
 "nbformat": 4,
 "nbformat_minor": 5
}
